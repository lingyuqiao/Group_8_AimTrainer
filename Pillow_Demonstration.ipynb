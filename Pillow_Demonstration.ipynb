{
 "cells": [
  {
   "cell_type": "markdown",
   "id": "b0fcd4e9-651a-4f9d-8bc8-519016143acd",
   "metadata": {},
   "source": [
    "**Pillow Package**\n",
    "- This project implements pillow in opening, modifying, and saving images\n",
    "- Specifically in this case resizing the image"
   ]
  },
  {
   "cell_type": "code",
   "execution_count": 4,
   "id": "a96c1403-01d9-4902-8a09-542a27c77583",
   "metadata": {},
   "outputs": [],
   "source": [
    "from PIL import Image"
   ]
  },
  {
   "cell_type": "markdown",
   "id": "05a5203e-189e-403c-8ccd-559281705fab",
   "metadata": {},
   "source": [
    "**Open**\n",
    "- reads the image\n",
    "- creates Image object that can then be modified"
   ]
  },
  {
   "cell_type": "code",
   "execution_count": 5,
   "id": "d0f0c140-e22b-4bfd-b44f-fb9ba2eca126",
   "metadata": {},
   "outputs": [],
   "source": [
    "Lobby = Image.open('Lobby_background.png')"
   ]
  },
  {
   "cell_type": "markdown",
   "id": "d6c63018-2cfd-47c3-a0b5-a1784cb9b3b3",
   "metadata": {},
   "source": [
    "**Resize**\n",
    "- method that takes tuple argument input\n",
    "- input must consist of two integers, width and height in pixels"
   ]
  },
  {
   "cell_type": "code",
   "execution_count": 6,
   "id": "4031b531-6ec3-47a1-8b37-00b5cf2d3c43",
   "metadata": {},
   "outputs": [],
   "source": [
    "#Resize the image to use\n",
    "length = 1500\n",
    "width = 800\n",
    "\n",
    "Lobby = Lobby.resize((length,width))"
   ]
  },
  {
   "cell_type": "markdown",
   "id": "9c5effce-f429-4e82-afec-b132117fa690",
   "metadata": {},
   "source": [
    "**Save**\n",
    "- saves image in desired format"
   ]
  },
  {
   "cell_type": "code",
   "execution_count": null,
   "id": "d5d02e02-b1a5-45fe-bc74-703989bb8bb4",
   "metadata": {},
   "outputs": [],
   "source": [
    "Lobby.save('Lobby_background.png')"
   ]
  },
  {
   "cell_type": "code",
   "execution_count": null,
   "id": "f1a57bcb-9987-4d75-86cd-5e4d4b5d5b6b",
   "metadata": {},
   "outputs": [],
   "source": []
  }
 ],
 "metadata": {
  "kernelspec": {
   "display_name": "Python 3 (ipykernel)",
   "language": "python",
   "name": "python3"
  },
  "language_info": {
   "codemirror_mode": {
    "name": "ipython",
    "version": 3
   },
   "file_extension": ".py",
   "mimetype": "text/x-python",
   "name": "python",
   "nbconvert_exporter": "python",
   "pygments_lexer": "ipython3",
   "version": "3.9.15"
  }
 },
 "nbformat": 4,
 "nbformat_minor": 5
}
