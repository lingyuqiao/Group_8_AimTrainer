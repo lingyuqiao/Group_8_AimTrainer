{
 "cells": [
  {
   "cell_type": "markdown",
   "id": "9d3510d9-998c-405b-acb8-7535a8067b68",
   "metadata": {},
   "source": [
    "# PyQt5 Package\n",
    "- This project implements PyQt5 in creating environment, GUI, and operations for our program"
   ]
  },
  {
   "cell_type": "code",
   "execution_count": null,
   "id": "66b296eb-3c71-4ed6-8b23-ccab0ba308fe",
   "metadata": {},
   "outputs": [],
   "source": [
    "import sys\n",
    "import random\n",
    "import time"
   ]
  },
  {
   "cell_type": "markdown",
   "id": "6f38cbe3-a86a-462a-bdc4-a9e136febc4d",
   "metadata": {},
   "source": [
    "**PyQt5**:  Environment, GUI, and operations\n",
    "- QtCore: core non-GUI classes\n",
    "- QtGui: graphical user interface components\n",
    "- QtWidgets: creating desktop style user interfaces\n",
    "- QtMultimedia: standard multimedia classes"
   ]
  },
  {
   "cell_type": "code",
   "execution_count": null,
   "id": "62544240-404a-41ae-8311-d7c4d0920201",
   "metadata": {},
   "outputs": [],
   "source": [
    "from PyQt5.QtCore import *\n",
    "from PyQt5 import QtCore\n",
    "\n",
    "from PyQt5.QtGui import *\n",
    "from PyQt5 import QtGui\n",
    "\n",
    "from PyQt5.QtWidgets import *\n",
    "from PyQt5.QtWidgets import QLineEdit\n",
    "\n",
    "from PyQt5 import QtMultimedia"
   ]
  },
  {
   "cell_type": "markdown",
   "id": "d00e509b-9d71-481b-a5e4-d45e6697d0c1",
   "metadata": {},
   "source": [
    "**Creating our Environment**\n",
    "- create class \"window\" as our main window"
   ]
  },
  {
   "cell_type": "code",
   "execution_count": null,
   "id": "003a3c6d-9676-4ed9-aeaf-8918229c6b3a",
   "metadata": {},
   "outputs": [],
   "source": [
    "class Window(QMainWindow):\n",
    "    def __init__(self):\n",
    "        super(Window, self).__init__()"
   ]
  },
  {
   "cell_type": "markdown",
   "id": "7ca4a159-a943-4570-ae93-f513353e75c8",
   "metadata": {},
   "source": [
    "**Features of our environment**\n",
    "- setGeometry takes four inputs: x and y locations for window position, length and width of the window\n",
    "- setWindowTitle for display when window opens upon program running\n",
    "- initUI will be developed in its own defined function"
   ]
  },
  {
   "cell_type": "code",
   "execution_count": null,
   "id": "f0a809e6-fa91-4789-bd78-b4132203f81e",
   "metadata": {},
   "outputs": [],
   "source": [
    " self.setGeometry(\n",
    "            200, 100, ImageProcessing.length, ImageProcessing.width)\n",
    "        self.setWindowTitle('Aim Lab')\n",
    "        self.initUI()"
   ]
  },
  {
   "cell_type": "markdown",
   "id": "614cc099-083a-4535-80cb-447e70810a78",
   "metadata": {},
   "source": [
    "**initUI**\n",
    "- \"self.\" argument for describing attributes"
   ]
  },
  {
   "cell_type": "code",
   "execution_count": null,
   "id": "e9ec362b-adb6-4741-833e-eaae3ed6f204",
   "metadata": {},
   "outputs": [],
   "source": [
    "def initUI(self):\n",
    "        self.second = 10  # Total game time\n",
    "        self.points = 0  # initialize score\n",
    "        self.difficulty_level = 1  # initialize difficulty level"
   ]
  },
  {
   "cell_type": "markdown",
   "id": "ffb4db89-d2cf-4a60-a2ef-7dce39633db4",
   "metadata": {},
   "source": [
    "**Labels**\n",
    "- one of the largest aspects in our visual design\n",
    "- labels are used both as a means to display images and as buttons\n",
    "- labels can have a text with specific font\n",
    "- setGeometry works in the same method it does for windows\n",
    "- setStyleSheet has many optional arguments, of those we chose to use image and border features\n",
    "- labels can be hidden and shown, to change backgrounds or remove buttons"
   ]
  },
  {
   "cell_type": "code",
   "execution_count": null,
   "id": "9dee4c42-be8d-4bc1-9fcf-d24983a58c83",
   "metadata": {},
   "outputs": [],
   "source": [
    " # setting lobby background\n",
    "        self.label1 = QLabel(self)\n",
    "        self.label1.setText(\"Timer\")\n",
    "        self.label1.setFont(QFont('Arial', 20))\n",
    "        self.label1.setGeometry(\n",
    "            0, 0, ImageProcessing.length, ImageProcessing.width)\n",
    "        self.label1.setStyleSheet(\n",
    "            \"background-image : url(Lobby_background.png); border : 0px solid blue\")\n",
    "        self.label1.move(0, 0)\n",
    "        \n",
    "        self.label4.adjustSize()\n",
    "        self.label4.hide()"
   ]
  },
  {
   "cell_type": "markdown",
   "id": "49cbed3d-bb41-493c-842a-5f59e0e0b160",
   "metadata": {},
   "source": [
    "**Buttons**\n",
    "- These buttons are similar to labels but can be programmed to have a response when interacted with\n",
    "- can have an associated image, or \"icon\"\n",
    "- size of the button can  be adjusted"
   ]
  },
  {
   "cell_type": "code",
   "execution_count": null,
   "id": "bb4c3d5c-05ce-4027-b27a-e7e9f3999cb9",
   "metadata": {},
   "outputs": [],
   "source": [
    "self.b1 = QPushButton(self)\n",
    "self.b1.setIcon(QtGui.QIcon(\"startButton.png\"))\n",
    "        self.b1.setIconSize(QtCore.QSize(100, 100))"
   ]
  },
  {
   "cell_type": "markdown",
   "id": "9140a3af-8def-4cd9-a392-9be1dc4952f0",
   "metadata": {},
   "source": [
    "**Clicking button**\n",
    "- \"self.b4.clicked.connect(self.\"your_function\")\"\n",
    "- this means that when b3 is clicked, connect \"self\" to \"your_function\" of choice\n",
    "- in this case we created the \"easy\" function\n",
    "- when b4 is pressed the easy function is actuated and the game is put into easy mode"
   ]
  },
  {
   "cell_type": "code",
   "execution_count": null,
   "id": "4c676ff7-52ba-4fa2-a579-a2a428e12435",
   "metadata": {},
   "outputs": [],
   "source": [
    "        self.b4 = QPushButton(self)\n",
    "        self.b4.setText(\"EASY\")\n",
    "        self.b4.move(375, 560)\n",
    "        self.b4.setFont(font)\n",
    "        self.b4.clicked.connect(self.easy)"
   ]
  },
  {
   "cell_type": "markdown",
   "id": "340286a9-a595-4c00-98e3-2e814e9bf9db",
   "metadata": {},
   "source": [
    "**Custom cursor**\n",
    "- use of QPixmap to upload an image\n",
    "- create QCursor object\n",
    "- override cursor via QApplication to the cursor object we just made"
   ]
  },
  {
   "cell_type": "code",
   "execution_count": null,
   "id": "9226c2c1-5400-4a6f-9f29-dd529d91b528",
   "metadata": {},
   "outputs": [],
   "source": [
    " # Creat custom cursor: shooting_hand\n",
    "        pixmap = QPixmap('shooting_hand.png')\n",
    "        cursor = QCursor(pixmap, 0, 0)\n",
    "        QApplication.setOverrideCursor(cursor)"
   ]
  },
  {
   "cell_type": "markdown",
   "id": "0013d40f-eb62-492e-980f-8bfd20fd9f8b",
   "metadata": {},
   "source": [
    "**Timer**\n",
    "- processEvents() used to update and check how much time has passed"
   ]
  },
  {
   "cell_type": "code",
   "execution_count": null,
   "id": "98e16e18-98b7-4b8b-b028-8d4b9a74ab83",
   "metadata": {},
   "outputs": [],
   "source": [
    " # countdown timer for the game\n",
    "    def update(self):\n",
    "        self.label1.setText(str(self.second))\n",
    "        QApplication.processEvents()\n",
    "        self.second = self.second - 1\n",
    "        if self.second <= 0:\n",
    "            self.game_over()"
   ]
  },
  {
   "cell_type": "markdown",
   "id": "bac7c70b-6615-4ebb-96df-b164653d3601",
   "metadata": {},
   "source": [
    "**Target function**\n",
    "- demonstration of how targets, in the form of buttons, move to random locations\n",
    "- processEvents() to update program"
   ]
  },
  {
   "cell_type": "code",
   "execution_count": null,
   "id": "c4db9301-389e-46c0-9d5b-13383feb279a",
   "metadata": {},
   "outputs": [],
   "source": [
    "def target(self):\n",
    "\n",
    "        # Next target move to a random place\n",
    "        self.b3.move(random.randint(0, 800), random.randint(0, 400))\n",
    "        QApplication.processEvents()"
   ]
  },
  {
   "cell_type": "markdown",
   "id": "8d055059-9515-4832-acb2-3fb44728c992",
   "metadata": {},
   "source": [
    "**Multimedia uses**\n",
    "- QtMultimedia is used to display and/or interact with various file types\n",
    "- audio is played (.wav) every time there is a mousePressEvent"
   ]
  },
  {
   "cell_type": "code",
   "execution_count": null,
   "id": "6abd070c-8364-472f-8507-7756a2e860b3",
   "metadata": {},
   "outputs": [],
   "source": [
    "def mousePressEvent(self, QMouseEvent):\n",
    "        # Playing gun fire sound\n",
    "        QtMultimedia.QSound.play('gun_sound.wav')\n",
    "        print(QMouseEvent.pos())"
   ]
  },
  {
   "cell_type": "markdown",
   "id": "9d790f65-f24e-4a1a-91d2-5295937e8b53",
   "metadata": {},
   "source": [
    "**Window display**\n",
    "- create QApplication object with system along with Window object\n",
    "- these work in tandem"
   ]
  },
  {
   "cell_type": "code",
   "execution_count": null,
   "id": "d887fe08-0184-43d0-a36e-40692a8deb45",
   "metadata": {},
   "outputs": [],
   "source": [
    "def window():\n",
    "    app = QApplication(sys.argv)\n",
    "    win = Window()\n",
    "    win.show()\n",
    "    sys.exit(app.exec_())\n",
    "\n",
    "\n",
    "window()"
   ]
  },
  {
   "cell_type": "code",
   "execution_count": null,
   "id": "da4bfda3-7dc7-4d7a-80b6-c17cb25f1777",
   "metadata": {},
   "outputs": [],
   "source": []
  }
 ],
 "metadata": {
  "kernelspec": {
   "display_name": "Python 3 (ipykernel)",
   "language": "python",
   "name": "python3"
  },
  "language_info": {
   "codemirror_mode": {
    "name": "ipython",
    "version": 3
   },
   "file_extension": ".py",
   "mimetype": "text/x-python",
   "name": "python",
   "nbconvert_exporter": "python",
   "pygments_lexer": "ipython3",
   "version": "3.9.15"
  }
 },
 "nbformat": 4,
 "nbformat_minor": 5
}
